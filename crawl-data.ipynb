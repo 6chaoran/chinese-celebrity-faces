{
 "cells": [
  {
   "cell_type": "code",
   "execution_count": 32,
   "metadata": {
    "ExecuteTime": {
     "end_time": "2021-04-24T03:55:37.351033Z",
     "start_time": "2021-04-24T03:55:37.320537Z"
    }
   },
   "outputs": [],
   "source": [
    "import urllib\n",
    "from pathlib import Path\n",
    "from bs4 import BeautifulSoup\n",
    "from tqdm import tqdm\n",
    "import pandas as pd\n",
    "\n",
    "\n",
    "image_output_dir = Path(\"./images\")\n",
    "image_output_dir.mkdir(parents=True, exist_ok=True)\n",
    "data_dir = Path('./data')\n",
    "data_dir.mkdir(parents=True, exist_ok=True)\n",
    "\n",
    "\n",
    "def get_soup(url):\n",
    "    with urllib.request.urlopen(url) as response:\n",
    "        html = response.read()\n",
    "    soup = BeautifulSoup(html, 'html.parser')\n",
    "    return soup\n",
    "\n",
    "\n",
    "def get_info(soup):\n",
    "\n",
    "    info = soup.body.find_next(id=\"v-details-list\").find_all('p')\n",
    "    res = {}\n",
    "    for i in info:\n",
    "        text = i.text\n",
    "        name, value = i.text.split('：', 1)\n",
    "        res[name.strip()] = value.strip()\n",
    "    return res\n",
    "\n",
    "\n",
    "def get_poster(soup, image_output_dir):\n",
    "    poster = soup.body.find_next(id=\"v-poster\").find_next('img')\n",
    "    link = poster.get('src', '')\n",
    "    if len(link) > 0:\n",
    "        link = \"https:\" + link\n",
    "        image_path = image_output_dir.joinpath(Path(link).name)\n",
    "    else:\n",
    "        link = \"\"\n",
    "        image_path = \"\"\n",
    "    return link, image_path\n",
    "\n",
    "\n",
    "def save_poster(link, image_path):\n",
    "    if link != \"\":\n",
    "        urllib.request.urlretrieve(link, image_path)\n",
    "\n",
    "\n",
    "def get_star_list(url):\n",
    "    soup = get_soup(url)\n",
    "    page_list = soup.body.find_next(id=\"list_stars\").find_all(\"li\")\n",
    "    res = []\n",
    "    for p in page_list:\n",
    "        a = p.find_next('a')\n",
    "        page_url = \"https://www.ijq.tv\"+a.get('href', '')\n",
    "        avatar_url = \"https:\" + a.img.get('src', '')\n",
    "        name = a.img.get(\"alt\")\n",
    "        res += [{'name': name, 'page_url': page_url, 'avatar_url': avatar_url}]\n",
    "    return res\n",
    "\n",
    "\n",
    "def crawl_page(url, save_img=False):\n",
    "    if len(url) > 0:\n",
    "        soup = get_soup(url)\n",
    "        info = get_info(soup)\n",
    "        poster, image_local_path = get_poster(soup, image_output_dir)\n",
    "        info['image_url'] = poster\n",
    "        info['image_path'] = image_local_path.as_posix()\n",
    "\n",
    "        if save_img:\n",
    "            save_poster(poster, image_local_path)\n",
    "\n",
    "    else:\n",
    "        info = {}\n",
    "    return info\n",
    "\n",
    "\n",
    "def crawl_list(url):\n",
    "    page_list = get_star_list(url)\n",
    "    res = []\n",
    "    for p in tqdm(page_list):\n",
    "        try:\n",
    "            info = crawl_page(p.get('page_url', ''))\n",
    "        except:\n",
    "            print('error: '+ p.get('page_url'))\n",
    "            info = {}\n",
    "        info.update(p)\n",
    "        res += [info]\n",
    "\n",
    "    # save result\n",
    "    list_name = Path(url).name.replace('html', 'csv')\n",
    "    res = pd.DataFrame(res)\n",
    "    res.columns = [i.replace('\\xa0', '').replace('\\u3000', '')\n",
    "                   for i in list(res.columns)]\n",
    "    res.to_csv(data_dir.joinpath(list_name), index=False)"
   ]
  },
  {
   "cell_type": "code",
   "execution_count": null,
   "metadata": {
    "ExecuteTime": {
     "start_time": "2021-04-24T03:57:33.987Z"
    }
   },
   "outputs": [
    {
     "name": "stdout",
     "output_type": "stream",
     "text": [
      "crawling page 21\n"
     ]
    },
    {
     "name": "stderr",
     "output_type": "stream",
     "text": [
      "100%|██████████████████████████████████████████████████████████████████████████████████| 30/30 [01:34<00:00,  3.15s/it]\n"
     ]
    },
    {
     "name": "stdout",
     "output_type": "stream",
     "text": [
      "crawling page 22\n"
     ]
    },
    {
     "name": "stderr",
     "output_type": "stream",
     "text": [
      "100%|██████████████████████████████████████████████████████████████████████████████████| 30/30 [01:16<00:00,  2.56s/it]\n"
     ]
    },
    {
     "name": "stdout",
     "output_type": "stream",
     "text": [
      "crawling page 23\n"
     ]
    },
    {
     "name": "stderr",
     "output_type": "stream",
     "text": [
      "100%|██████████████████████████████████████████████████████████████████████████████████| 30/30 [01:16<00:00,  2.56s/it]\n"
     ]
    },
    {
     "name": "stdout",
     "output_type": "stream",
     "text": [
      "crawling page 24\n"
     ]
    },
    {
     "name": "stderr",
     "output_type": "stream",
     "text": [
      "100%|██████████████████████████████████████████████████████████████████████████████████| 30/30 [01:21<00:00,  2.72s/it]\n"
     ]
    },
    {
     "name": "stdout",
     "output_type": "stream",
     "text": [
      "crawling page 25\n"
     ]
    },
    {
     "name": "stderr",
     "output_type": "stream",
     "text": [
      " 57%|██████████████████████████████████████████████▍                                   | 17/30 [00:43<00:30,  2.34s/it]"
     ]
    },
    {
     "name": "stdout",
     "output_type": "stream",
     "text": [
      "error: https://www.ijq.tv/mingxing/15717965646803.html\n"
     ]
    },
    {
     "name": "stderr",
     "output_type": "stream",
     "text": [
      "100%|██████████████████████████████████████████████████████████████████████████████████| 30/30 [01:14<00:00,  2.47s/it]\n"
     ]
    },
    {
     "name": "stdout",
     "output_type": "stream",
     "text": [
      "crawling page 26\n"
     ]
    },
    {
     "name": "stderr",
     "output_type": "stream",
     "text": [
      "100%|██████████████████████████████████████████████████████████████████████████████████| 30/30 [01:18<00:00,  2.61s/it]\n"
     ]
    },
    {
     "name": "stdout",
     "output_type": "stream",
     "text": [
      "crawling page 27\n"
     ]
    },
    {
     "name": "stderr",
     "output_type": "stream",
     "text": [
      "  3%|██▊                                                                                | 1/30 [00:02<01:10,  2.44s/it]"
     ]
    }
   ],
   "source": [
    "for page_name in range(21, 100):\n",
    "    url = f\"https://www.ijq.tv/mingxing/list_%E5%86%85%E5%9C%B0_{page_name}.html\"\n",
    "    print(f'crawling page {page_name}')\n",
    "    res = crawl_list(url)"
   ]
  },
  {
   "cell_type": "code",
   "execution_count": null,
   "metadata": {
    "ExecuteTime": {
     "start_time": "2021-04-24T04:09:45.022Z"
    },
    "scrolled": false
   },
   "outputs": [],
   "source": [
    "data = []\n",
    "for p in Path('./data').glob('*.csv'):\n",
    "    dlist = pd.read_csv(p)\n",
    "    data += [dlist]\n",
    "data = pd.concat(data)\n",
    "data"
   ]
  },
  {
   "cell_type": "code",
   "execution_count": null,
   "metadata": {
    "ExecuteTime": {
     "start_time": "2021-04-24T04:09:46.110Z"
    }
   },
   "outputs": [],
   "source": [
    "len(list(image_output_dir.glob(\"*\")))"
   ]
  },
  {
   "cell_type": "code",
   "execution_count": null,
   "metadata": {},
   "outputs": [],
   "source": []
  }
 ],
 "metadata": {
  "kernelspec": {
   "display_name": "My Env",
   "language": "python",
   "name": "myenv"
  },
  "language_info": {
   "codemirror_mode": {
    "name": "ipython",
    "version": 3
   },
   "file_extension": ".py",
   "mimetype": "text/x-python",
   "name": "python",
   "nbconvert_exporter": "python",
   "pygments_lexer": "ipython3",
   "version": "3.6.10"
  },
  "toc": {
   "base_numbering": 1,
   "nav_menu": {},
   "number_sections": true,
   "sideBar": true,
   "skip_h1_title": false,
   "title_cell": "Table of Contents",
   "title_sidebar": "Contents",
   "toc_cell": false,
   "toc_position": {},
   "toc_section_display": true,
   "toc_window_display": false
  }
 },
 "nbformat": 4,
 "nbformat_minor": 4
}
